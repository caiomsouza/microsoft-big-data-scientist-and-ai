{
  "cells": [
    {
      "metadata": {
        "trusted": true
      },
      "cell_type": "markdown",
      "source": "# This tutorial will teach you how to create a ML model using H2o"
    },
    {
      "metadata": {
        "trusted": true
      },
      "cell_type": "code",
      "source": "install.packages(\"h2o\")",
      "execution_count": 4,
      "outputs": [
        {
          "output_type": "stream",
          "text": "Installing package into ‘/home/nbuser/R’\n(as ‘lib’ is unspecified)\n",
          "name": "stderr"
        }
      ]
    },
    {
      "metadata": {
        "trusted": true
      },
      "cell_type": "code",
      "source": "library(h2o)",
      "execution_count": 5,
      "outputs": [
        {
          "output_type": "stream",
          "text": "\n----------------------------------------------------------------------\n\nYour next step is to start H2O:\n    > h2o.init()\n\nFor H2O package documentation, ask for help:\n    > ??h2o\n\nAfter starting H2O, you can use the Web UI at http://localhost:54321\nFor more information visit http://docs.h2o.ai\n\n----------------------------------------------------------------------\n\n\nAttaching package: ‘h2o’\n\nThe following objects are masked from ‘package:stats’:\n\n    cor, sd, var\n\nThe following objects are masked from ‘package:base’:\n\n    &&, %*%, %in%, ||, apply, as.factor, as.numeric, colnames,\n    colnames<-, ifelse, is.character, is.factor, is.numeric, log,\n    log10, log1p, log2, round, signif, trunc\n\n",
          "name": "stderr"
        }
      ]
    },
    {
      "metadata": {
        "trusted": true
      },
      "cell_type": "code",
      "source": "",
      "execution_count": 4,
      "outputs": [
        {
          "output_type": "stream",
          "text": "Installing package into ‘/home/nbuser/R’\n(as ‘lib’ is unspecified)\n",
          "name": "stderr"
        }
      ]
    },
    {
      "metadata": {
        "trusted": true
      },
      "cell_type": "code",
      "source": "h2o.init()",
      "execution_count": 6,
      "outputs": [
        {
          "output_type": "stream",
          "text": "\nH2O is not running yet, starting it now...\n\nNote:  In case of errors look at the following log files:\n    /tmp/RtmpJPHRuK/h2o_nbuser_started_from_r.out\n    /tmp/RtmpJPHRuK/h2o_nbuser_started_from_r.err\n\n\nStarting H2O JVM and connecting: . Connection successful!\n\nR is connected to the H2O cluster: \n    H2O cluster uptime:         4 seconds 564 milliseconds \n    H2O cluster timezone:       Etc/UTC \n    H2O data parsing timezone:  UTC \n    H2O cluster version:        3.20.0.8 \n    H2O cluster version age:    6 days  \n    H2O cluster name:           H2O_started_from_R_nbuser_ebt489 \n    H2O cluster total nodes:    1 \n    H2O cluster total memory:   0.85 GB \n    H2O cluster total cores:    2 \n    H2O cluster allowed cores:  2 \n    H2O cluster healthy:        TRUE \n    H2O Connection ip:          localhost \n    H2O Connection port:        54321 \n    H2O Connection proxy:       NA \n    H2O Internal Security:      FALSE \n    H2O API Extensions:         XGBoost, Algos, AutoML, Core V3, Core V4 \n    R Version:                  R version 3.4.1 (2017-06-30) \n\n",
          "name": "stdout"
        }
      ]
    },
    {
      "metadata": {
        "trusted": true
      },
      "cell_type": "code",
      "source": "# Import a sample binary outcome train/test set into H2O\ntrain <- h2o.importFile(\"https://raw.githubusercontent.com/caiomsouza/ml-open-datasets/master/csv-dataset/kaggle-santander-train.csv\")\n\n",
      "execution_count": 7,
      "outputs": [
        {
          "output_type": "stream",
          "text": "  |======================================================================| 100%\n",
          "name": "stdout"
        }
      ]
    },
    {
      "metadata": {
        "trusted": true
      },
      "cell_type": "code",
      "source": "test <- h2o.importFile(\"https://raw.githubusercontent.com/caiomsouza/ml-open-datasets/master/csv-dataset/kaggle-santander-test.csv\")\n",
      "execution_count": 8,
      "outputs": [
        {
          "output_type": "stream",
          "text": "  |======================================================================| 100%\n",
          "name": "stdout"
        }
      ]
    },
    {
      "metadata": {
        "trusted": true
      },
      "cell_type": "code",
      "source": "aml <- h2o.automl(y = \"TARGET\", training_frame = train, max_runtime_secs = 60)\n\nlb <- aml@leaderboard ",
      "execution_count": 11,
      "outputs": [
        {
          "output_type": "stream",
          "text": "  |======================================================================| 100%\n",
          "name": "stdout"
        }
      ]
    },
    {
      "metadata": {
        "trusted": true
      },
      "cell_type": "code",
      "source": "pred <- h2o.predict(aml@leader, test)\npred.df <- as.data.frame(pred)\n",
      "execution_count": 12,
      "outputs": [
        {
          "output_type": "stream",
          "text": "  |======================================================================| 100%\n",
          "name": "stdout"
        }
      ]
    },
    {
      "metadata": {
        "trusted": true
      },
      "cell_type": "code",
      "source": "pred.df",
      "execution_count": 13,
      "outputs": [
        {
          "output_type": "display_data",
          "data": {
            "text/plain": "      predict   \n1     0.03018201\n2     0.06007185\n3     0.01234840\n4     0.08411874\n5     0.01219768\n6     0.10518281\n7     0.07932790\n8     0.11561808\n9     0.02750700\n10    0.03638500\n11    0.02499721\n12    0.01210655\n13    0.02348450\n14    0.01353224\n15    0.01226373\n16    0.08216215\n17    0.04625748\n18    0.01220058\n19    0.01312592\n20    0.04499044\n21    0.03076510\n22    0.10969968\n23    0.01246462\n24    0.01208948\n25    0.16685433\n26    0.01870491\n27    0.01235863\n28    0.01258144\n29    0.05712224\n30    0.01207897\n...   ...       \n75789 0.01204541\n75790 0.02203033\n75791 0.01212965\n75792 0.02524231\n75793 0.01316983\n75794 0.02402205\n75795 0.09429323\n75796 0.17664539\n75797 0.01308555\n75798 0.05003763\n75799 0.04497611\n75800 0.02153374\n75801 0.02992880\n75802 0.02227056\n75803 0.24198404\n75804 0.13621792\n75805 0.01424813\n75806 0.02770244\n75807 0.11230710\n75808 0.01276678\n75809 0.08890251\n75810 0.11050993\n75811 0.02736270\n75812 0.03572603\n75813 0.01266340\n75814 0.24153726\n75815 0.02524228\n75816 0.16076345\n75817 0.04450870\n75818 0.01207291",
            "text/latex": "\\begin{tabular}{r|l}\n predict\\\\\n\\hline\n\t 0.03018201\\\\\n\t 0.06007185\\\\\n\t 0.01234840\\\\\n\t 0.08411874\\\\\n\t 0.01219768\\\\\n\t 0.10518281\\\\\n\t 0.07932790\\\\\n\t 0.11561808\\\\\n\t 0.02750700\\\\\n\t 0.03638500\\\\\n\t 0.02499721\\\\\n\t 0.01210655\\\\\n\t 0.02348450\\\\\n\t 0.01353224\\\\\n\t 0.01226373\\\\\n\t 0.08216215\\\\\n\t 0.04625748\\\\\n\t 0.01220058\\\\\n\t 0.01312592\\\\\n\t 0.04499044\\\\\n\t 0.03076510\\\\\n\t 0.10969968\\\\\n\t 0.01246462\\\\\n\t 0.01208948\\\\\n\t 0.16685433\\\\\n\t 0.01870491\\\\\n\t 0.01235863\\\\\n\t 0.01258144\\\\\n\t 0.05712224\\\\\n\t 0.01207897\\\\\n\t ...\\\\\n\t 0.01204541\\\\\n\t 0.02203033\\\\\n\t 0.01212965\\\\\n\t 0.02524231\\\\\n\t 0.01316983\\\\\n\t 0.02402205\\\\\n\t 0.09429323\\\\\n\t 0.17664539\\\\\n\t 0.01308555\\\\\n\t 0.05003763\\\\\n\t 0.04497611\\\\\n\t 0.02153374\\\\\n\t 0.02992880\\\\\n\t 0.02227056\\\\\n\t 0.24198404\\\\\n\t 0.13621792\\\\\n\t 0.01424813\\\\\n\t 0.02770244\\\\\n\t 0.11230710\\\\\n\t 0.01276678\\\\\n\t 0.08890251\\\\\n\t 0.11050993\\\\\n\t 0.02736270\\\\\n\t 0.03572603\\\\\n\t 0.01266340\\\\\n\t 0.24153726\\\\\n\t 0.02524228\\\\\n\t 0.16076345\\\\\n\t 0.04450870\\\\\n\t 0.01207291\\\\\n\\end{tabular}\n",
            "text/markdown": "\npredict | \n|---|---|---|---|---|---|---|---|---|---|---|---|---|---|---|---|---|---|---|---|---|---|---|---|---|---|---|---|---|---|---|---|---|---|---|---|---|---|---|---|---|---|---|---|---|---|---|---|---|---|---|---|---|---|---|---|---|---|---|---|---|\n| 0.03018201 | \n| 0.06007185 | \n| 0.01234840 | \n| 0.08411874 | \n| 0.01219768 | \n| 0.10518281 | \n| 0.07932790 | \n| 0.11561808 | \n| 0.02750700 | \n| 0.03638500 | \n| 0.02499721 | \n| 0.01210655 | \n| 0.02348450 | \n| 0.01353224 | \n| 0.01226373 | \n| 0.08216215 | \n| 0.04625748 | \n| 0.01220058 | \n| 0.01312592 | \n| 0.04499044 | \n| 0.03076510 | \n| 0.10969968 | \n| 0.01246462 | \n| 0.01208948 | \n| 0.16685433 | \n| 0.01870491 | \n| 0.01235863 | \n| 0.01258144 | \n| 0.05712224 | \n| 0.01207897 | \n| ... | \n| 0.01204541 | \n| 0.02203033 | \n| 0.01212965 | \n| 0.02524231 | \n| 0.01316983 | \n| 0.02402205 | \n| 0.09429323 | \n| 0.17664539 | \n| 0.01308555 | \n| 0.05003763 | \n| 0.04497611 | \n| 0.02153374 | \n| 0.02992880 | \n| 0.02227056 | \n| 0.24198404 | \n| 0.13621792 | \n| 0.01424813 | \n| 0.02770244 | \n| 0.11230710 | \n| 0.01276678 | \n| 0.08890251 | \n| 0.11050993 | \n| 0.02736270 | \n| 0.03572603 | \n| 0.01266340 | \n| 0.24153726 | \n| 0.02524228 | \n| 0.16076345 | \n| 0.04450870 | \n| 0.01207291 | \n\n\n",
            "text/html": "<table>\n<thead><tr><th scope=col>predict</th></tr></thead>\n<tbody>\n\t<tr><td>0.03018201</td></tr>\n\t<tr><td>0.06007185</td></tr>\n\t<tr><td>0.01234840</td></tr>\n\t<tr><td>0.08411874</td></tr>\n\t<tr><td>0.01219768</td></tr>\n\t<tr><td>0.10518281</td></tr>\n\t<tr><td>0.07932790</td></tr>\n\t<tr><td>0.11561808</td></tr>\n\t<tr><td>0.02750700</td></tr>\n\t<tr><td>0.03638500</td></tr>\n\t<tr><td>0.02499721</td></tr>\n\t<tr><td>0.01210655</td></tr>\n\t<tr><td>0.02348450</td></tr>\n\t<tr><td>0.01353224</td></tr>\n\t<tr><td>0.01226373</td></tr>\n\t<tr><td>0.08216215</td></tr>\n\t<tr><td>0.04625748</td></tr>\n\t<tr><td>0.01220058</td></tr>\n\t<tr><td>0.01312592</td></tr>\n\t<tr><td>0.04499044</td></tr>\n\t<tr><td>0.03076510</td></tr>\n\t<tr><td>0.10969968</td></tr>\n\t<tr><td>0.01246462</td></tr>\n\t<tr><td>0.01208948</td></tr>\n\t<tr><td>0.16685433</td></tr>\n\t<tr><td>0.01870491</td></tr>\n\t<tr><td>0.01235863</td></tr>\n\t<tr><td>0.01258144</td></tr>\n\t<tr><td>0.05712224</td></tr>\n\t<tr><td>0.01207897</td></tr>\n\t<tr><td>...</td></tr>\n\t<tr><td>0.01204541</td></tr>\n\t<tr><td>0.02203033</td></tr>\n\t<tr><td>0.01212965</td></tr>\n\t<tr><td>0.02524231</td></tr>\n\t<tr><td>0.01316983</td></tr>\n\t<tr><td>0.02402205</td></tr>\n\t<tr><td>0.09429323</td></tr>\n\t<tr><td>0.17664539</td></tr>\n\t<tr><td>0.01308555</td></tr>\n\t<tr><td>0.05003763</td></tr>\n\t<tr><td>0.04497611</td></tr>\n\t<tr><td>0.02153374</td></tr>\n\t<tr><td>0.02992880</td></tr>\n\t<tr><td>0.02227056</td></tr>\n\t<tr><td>0.24198404</td></tr>\n\t<tr><td>0.13621792</td></tr>\n\t<tr><td>0.01424813</td></tr>\n\t<tr><td>0.02770244</td></tr>\n\t<tr><td>0.11230710</td></tr>\n\t<tr><td>0.01276678</td></tr>\n\t<tr><td>0.08890251</td></tr>\n\t<tr><td>0.11050993</td></tr>\n\t<tr><td>0.02736270</td></tr>\n\t<tr><td>0.03572603</td></tr>\n\t<tr><td>0.01266340</td></tr>\n\t<tr><td>0.24153726</td></tr>\n\t<tr><td>0.02524228</td></tr>\n\t<tr><td>0.16076345</td></tr>\n\t<tr><td>0.04450870</td></tr>\n\t<tr><td>0.01207291</td></tr>\n</tbody>\n</table>\n"
          },
          "metadata": {}
        }
      ]
    },
    {
      "metadata": {
        "trusted": true
      },
      "cell_type": "code",
      "source": "write.csv(pred.df, file = \"pred_h2o_automl.csv\")",
      "execution_count": 14,
      "outputs": []
    },
    {
      "metadata": {
        "trusted": true
      },
      "cell_type": "code",
      "source": "testIds<-as.data.frame(test$ID)\nsubmission<-data.frame(cbind(testIds,pred.df$predict))\ncolnames(submission)<-c(\"ID\",\"PredictedProb\")",
      "execution_count": 15,
      "outputs": []
    },
    {
      "metadata": {
        "trusted": true
      },
      "cell_type": "code",
      "source": "write.csv(submission,\"pred_h2o_automl_with_ID.csv\",row.names=T)",
      "execution_count": 16,
      "outputs": []
    },
    {
      "metadata": {
        "trusted": true
      },
      "cell_type": "code",
      "source": "write.csv(submission,\"pred_h2o_automl_with_ID_no_Row_name.csv\",row.names=F)",
      "execution_count": 17,
      "outputs": []
    },
    {
      "metadata": {
        "trusted": true
      },
      "cell_type": "code",
      "source": "lb",
      "execution_count": 18,
      "outputs": [
        {
          "output_type": "display_data",
          "data": {
            "text/plain": "                                               model_id mean_residual_deviance\n1    StackedEnsemble_AllModels_0_AutoML_20180928_110851             0.03525777\n2 StackedEnsemble_BestOfFamily_0_AutoML_20180928_110851             0.03534037\n3                          DRF_0_AutoML_20180928_104413             0.03633521\n4                          DRF_0_AutoML_20180928_110851             0.03643848\n       rmse        mse        mae     rmsle\n1 0.1877705 0.03525777 0.07050069 0.1308395\n2 0.1879904 0.03534037 0.07066108 0.1309889\n3 0.1906180 0.03633521 0.07213644 0.1354914\n4 0.1908886 0.03643848 0.07223831 0.1357260\n\n[4 rows x 6 columns] "
          },
          "metadata": {}
        }
      ]
    },
    {
      "metadata": {
        "trusted": true
      },
      "cell_type": "code",
      "source": "",
      "execution_count": null,
      "outputs": []
    },
    {
      "metadata": {
        "trusted": true
      },
      "cell_type": "code",
      "source": "lb$rmse",
      "execution_count": 23,
      "outputs": [
        {
          "output_type": "display_data",
          "data": {
            "text/plain": "       rmse\n1 0.1877705\n2 0.1879904\n3 0.1906180\n4 0.1908886\n\n[4 rows x 1 column] "
          },
          "metadata": {}
        }
      ]
    },
    {
      "metadata": {
        "trusted": true
      },
      "cell_type": "code",
      "source": "lb$mse",
      "execution_count": 24,
      "outputs": [
        {
          "output_type": "display_data",
          "data": {
            "text/plain": "         mse\n1 0.03525777\n2 0.03534037\n3 0.03633521\n4 0.03643848\n\n[4 rows x 1 column] "
          },
          "metadata": {}
        }
      ]
    },
    {
      "metadata": {
        "trusted": true
      },
      "cell_type": "code",
      "source": "",
      "execution_count": null,
      "outputs": []
    },
    {
      "metadata": {
        "trusted": true
      },
      "cell_type": "code",
      "source": "",
      "execution_count": null,
      "outputs": []
    },
    {
      "metadata": {
        "trusted": true
      },
      "cell_type": "code",
      "source": "",
      "execution_count": null,
      "outputs": []
    },
    {
      "metadata": {
        "trusted": true
      },
      "cell_type": "code",
      "source": "",
      "execution_count": null,
      "outputs": []
    }
  ],
  "metadata": {
    "kernelspec": {
      "name": "r",
      "display_name": "R",
      "language": "R"
    },
    "language_info": {
      "mimetype": "text/x-r-source",
      "name": "R",
      "pygments_lexer": "r",
      "version": "3.4.1",
      "file_extension": ".r",
      "codemirror_mode": "r"
    }
  },
  "nbformat": 4,
  "nbformat_minor": 1
}